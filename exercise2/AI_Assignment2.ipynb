{
 "cells": [
  {
   "cell_type": "markdown",
   "metadata": {},
   "source": [
    "# Programming Exercise 2: Constraint Satisfaction Problem"
   ]
  },
  {
   "cell_type": "markdown",
   "metadata": {},
   "source": [
    "<div class=\"alert alert-info\">\n",
    "    <h3>Please read the following important information before starting with the programming exercise: </h3>\n",
    "    <p>In order to avoid problems with the relative file path we recommend to place the provided notebook and csp_programming_exercise.py file in the rootfolder of your <b>aima repository</b>.</p> \n",
    "    <p>Do not use/install any additional packages, which are not provided in the requirements.txt of the  <b>aima repository</b>. </p>\n",
    "    <p>For modelling the constraint satisfaction problem you will have to define some variables. Do not change the names of variables that we provided you! Since we use these variables for an automatic evaluation, changing  variable names will result in failing the programming exercise. </p>\n",
    "    <p>Do not modify the example with the TWO + TWO = FOUR problem!</p>\n",
    "    <p>Do not modify the csp_programming_exercise.py!</p>\n",
    "    <p>After completing the exercise, download this jupyter notebook as *.py file (File &rarr; Download as \t&rarr; Python (.py)) </p>\n",
    "    <p>Before uploading this file together with your jupyter notebook to moodle, check if you can run <i>'python AI_Assignment2.py'</i> inside your anaconda environment in the root folder of your <b>aima repository</b>. If we are not able to run your submitted files in an environment with the packages provided by the requirements.txt of the <b>aima repository</b>, you will fail the programming exercise.</p>\n",
    "    \n",
    "</div>"
   ]
  },
  {
   "cell_type": "markdown",
   "metadata": {},
   "source": [
    "## Initialization"
   ]
  },
  {
   "cell_type": "code",
   "execution_count": 1,
   "metadata": {},
   "outputs": [],
   "source": [
    "# Do not change this part.\n",
    "from csp_programming_exercise import *\n",
    "import sys, os\n",
    "sys.path.append(os.path.realpath(\"aima\"))"
   ]
  },
  {
   "cell_type": "markdown",
   "metadata": {},
   "source": [
    "## Example for Solving a Constraint Satisfaction Problem"
   ]
  },
  {
   "cell_type": "markdown",
   "metadata": {},
   "source": [
    "In this exercise we are going to construct the Science Fair problem as a constraint satisfaction problem in Python using the csp library. The \"TWO + TWO = FOUR\" problem from the exercise (see Problem 3.4) will help us to understand how to model a constraint satisfaction problem with this library.\n"
   ]
  },
  {
   "cell_type": "markdown",
   "metadata": {},
   "source": [
    "### Constructing the Domains: TWO + TWO = FOUR"
   ]
  },
  {
   "cell_type": "markdown",
   "metadata": {},
   "source": [
    "We start with constructing the domains for our problem. As an example the domains for the TWO + TWO = FOUR- problem from the csp library are given. "
   ]
  },
  {
   "cell_type": "code",
   "execution_count": 2,
   "metadata": {},
   "outputs": [],
   "source": [
    "# Do not change this part\n",
    "# Here we form the domains for the variables: T, F, W, O, U, R, C1, C2 and C3\n",
    "# Domains are formed using key-value pairs,\n",
    "# where the key stands for the variable and the value is for the possible values\n",
    "# set(range(1, 4)) is a short way of creating an array with numbers from 1 to 4\n",
    "# set (range(1, 4)) == [1, 2, 3]\n",
    "# Tip: Remember that you can construct arrays with any variable types\n",
    "\n",
    "domains_TF = {'T': set(range(1, 10)),\n",
    "           'F': set(range(1, 10)),\n",
    "           'W': set(range(0, 10)),\n",
    "           'O': set(range(0, 10)),\n",
    "           'U': set(range(0, 10)),\n",
    "           'R': set(range(0, 10)),\n",
    "           'C1': set(range(0, 2)), \n",
    "           'C2': set(range(0, 2)), \n",
    "           'C3': set(range(0, 2))\n",
    "}"
   ]
  },
  {
   "cell_type": "markdown",
   "metadata": {},
   "source": [
    "### Constructing the Constraints: TWO + TWO = FOUR"
   ]
  },
  {
   "cell_type": "markdown",
   "metadata": {},
   "source": [
    "We continue with defining the constraints for our problem, the most important part of any constraint satisfaction problem. Let's take a look at the constraints for our \"TWO + TWO = FOUR\" problem to give you some insight about how to construct constraints with the csp library."
   ]
  },
  {
   "cell_type": "code",
   "execution_count": 3,
   "metadata": {},
   "outputs": [],
   "source": [
    "# Do not change this part\n",
    "# Here we define our constraints\n",
    "# The constraint constructor of csp takes two arguments:\n",
    "# 1. The variables that take part in the constraint\n",
    "# 2. The constraint itself which is a function that takes the variables as arguments and returns true or false\n",
    "# all_diff and eq are functions defined in csp \n",
    "# Like their name suggest all_diff returns true if every value is different\n",
    "# and eq returns true if the two values are equal\n",
    "# Tip: Take a look at the lambda operator in python https://www.w3schools.com/python/python_lambda.asp\n",
    "\n",
    "\n",
    "constraint1_TF = Constraint(('T', 'F', 'W', 'O', 'U', 'R'), all_diff)\n",
    "constraint2_TF = Constraint(('O', 'R', 'C1'), lambda o, r, c1: o + o == r + 10 * c1)\n",
    "constraint3_TF = Constraint(('W', 'U', 'C1', 'C2'), lambda w, u, c1, c2: c1 + w + w == u + 10 * c2)\n",
    "constraint4_TF = Constraint(('T', 'O', 'C2', 'C3'), lambda t, o, c2, c3: c2 + t + t == o + 10 * c3)\n",
    "constraint5_TF = Constraint(('F', 'C3'), eq)"
   ]
  },
  {
   "cell_type": "markdown",
   "metadata": {},
   "source": [
    "### Combine the constraints and set up the TWO + TWO = FOUR Problem"
   ]
  },
  {
   "cell_type": "code",
   "execution_count": 4,
   "metadata": {},
   "outputs": [],
   "source": [
    "# Do not change this part\n",
    "# TWO + TWO = FOUR Problem\n",
    "two_four_constraints = [constraint1_TF, constraint2_TF, constraint3_TF, constraint4_TF, constraint5_TF]\n",
    "two_four = NaryCSP(domains_TF, two_four_constraints)\n"
   ]
  },
  {
   "cell_type": "markdown",
   "metadata": {},
   "source": [
    "### Solve the TWO + TWO = FOUR Problem"
   ]
  },
  {
   "cell_type": "code",
   "execution_count": 5,
   "metadata": {},
   "outputs": [
    {
     "data": {
      "text/plain": [
       "{'T': 7, 'F': 1, 'W': 6, 'O': 5, 'U': 3, 'R': 0, 'C1': 1, 'C2': 1, 'C3': 1}"
      ]
     },
     "execution_count": 5,
     "metadata": {},
     "output_type": "execute_result"
    }
   ],
   "source": [
    "# Do not change this part\n",
    "ac_search_solver(two_four)"
   ]
  },
  {
   "cell_type": "markdown",
   "metadata": {},
   "source": [
    "## Programming Exercise Science Fair "
   ]
  },
  {
   "cell_type": "markdown",
   "metadata": {},
   "source": [
    "### Constructing the Domains: Science Fair"
   ]
  },
  {
   "cell_type": "code",
   "execution_count": 6,
   "metadata": {},
   "outputs": [],
   "source": [
    "# Define your domains here\n",
    "#Solar_Powered_Car  'SPC'\n",
    "#Potato_Battery  'PB'\n",
    "#Baking_Powder_Volcano  'BPV'\n",
    "#Our_Solar_System 'OSS'\n",
    "\n",
    "domains_SF = {              \n",
    "           'Bella': {'SPC','PB','BPV','OSS'},\n",
    "           'Bethany': {'SPC','PB','BPV','OSS'},\n",
    "           'Brian': {'SPC','PB','BPV','OSS'},\n",
    "           'Brianna': {'SPC','PB','BPV','OSS'},\n",
    "           'Ben': {'SPC','PB','BPV','OSS'},\n",
    "           'Bill': {'SPC','PB','BPV','OSS'},\n",
    "           'Bart': {'SPC','PB','BPV','OSS'}  \n",
    "}"
   ]
  },
  {
   "cell_type": "markdown",
   "metadata": {},
   "source": [
    "### Constructing the Constraints: Science Fair"
   ]
  },
  {
   "cell_type": "code",
   "execution_count": 7,
   "metadata": {},
   "outputs": [],
   "source": [
    "# Define your constraints here\n",
    "\n",
    "constraint1_SF = Constraint(('Bella','Bethany','Brian','Brianna','Ben','Bill','Bart'),\n",
    "                            lambda bella, bethany, brian, brianna, ben, bill, bart :\n",
    "                            (bella != None) and (bethany != None) and (brian != None) and (brianna != None) \n",
    "                            and (ben != None) and (bill != None) and (bart != None))\n",
    "\n",
    "constraint2_SF = Constraint(('Bella','Bethany','Brian','Brianna','Ben','Bill','Bart'),\n",
    "                            lambda bella, bethany, brian, brianna, ben, bill, bart : \n",
    "                            (bella == bethany or bella == brian or bella == brianna or bella == ben or bella == bill or bella == bart) and \n",
    "                            (bethany == bella or bethany == brian or bethany == brianna or bethany == ben or bethany == bill or bethany == bart) and \n",
    "                            (brian == bella or brian == bethany or brian == brianna or brian == ben or brian == bill or brian == bart) and \n",
    "                            (brianna == bella or brianna == bethany or brianna == brian or brianna == ben or brianna == bill or brianna == bart) and \n",
    "                            (ben  == bella or ben == bethany or ben == brian or ben == brianna or ben == bill or ben == bart) and \n",
    "                            (bill == bella or bill == bethany or bill == brian or bill == brianna or bill == ben or bill == bart) and \n",
    "                            (bart == bella or bart == bethany or bart == brian or bart == brianna or bart == ben or bart == bill))\n",
    "\n",
    "constraint3_SF = Constraint(('Bella','Bethany','Brian','Brianna','Ben','Bill','Bart'), \n",
    "                            lambda bella, bethany, brian, brianna, ben, bill, bart : \n",
    "                            ((bella == 'SPC') + (bethany == 'SPC') + (brian == 'SPC') + (brianna == 'SPC') + (ben == 'SPC') + (bill == 'SPC') + (bart == 'SPC')) >= 1 and                          \n",
    "                            ((bella == 'PB') + (bethany == 'PB') + (brian == 'PB') + (brianna == 'PB') + (ben == 'PB') + (bill == 'PB') + (bart == 'PB')) >= 1 and   \n",
    "                            ((bella == 'BPV') + (bethany == 'BPV') + (brian == 'BPV') + (brianna == 'BPV') + (ben == 'BPV') + (bill == 'BPV') + (bart == 'BPV')) >= 1 and            \n",
    "                            ((bella == 'OSS') + (bethany == 'OSS') + (brian == 'OSS') + (brianna == 'OSS') + (ben == 'OSS') + (bill == 'OSS') + (bart == 'OSS')) >= 1)\n",
    "\n",
    "constraint4_SF = Constraint(('Bella','Bethany','Brian','Brianna','Ben','Bill','Bart'),\n",
    "                            lambda bella, bethany, brian, brianna, ben, bill, bart:\n",
    "                            ((bella == 'SPC') + (bethany == 'SPC') + (brian == 'SPC') + (brianna == 'SPC') + (ben == 'SPC') + (bill == 'SPC') + (bart == 'SPC')) <= 4)\n",
    "\n",
    "constraint5_SF = Constraint(('Bella','Bethany','Brian','Brianna','Ben','Bill','Bart'),\n",
    "                             lambda bella, bethany, brian, brianna, ben, bill, bart:\n",
    "                            ((bella == 'PB') + (bethany == 'PB') + (brian == 'PB') + (brianna == 'PB') + (ben == 'PB') + (bill == 'PB') + (bart == 'PB')) <= 3)\n",
    "\n",
    "constraint6_SF = Constraint(('Bella','Bethany','Brian','Brianna','Ben','Bill','Bart'), \n",
    "                            lambda bella, bethany, brian, brianna, ben, bill, bart:\n",
    "                            (((bella == 'BPV') + (bethany == 'BPV') + (brian == 'BPV') + (brianna == 'BPV') + (ben == 'BPV') + (bill == 'BPV') + (bart == 'BPV')) >= 3\n",
    "                           and ((bella == 'BPV') + (bethany == 'BPV') + (brian == 'BPV') + (brianna == 'BPV') + (ben == 'BPV') + (bill == 'BPV') + (bart == 'BPV')) <= 5)\n",
    "                           or ((bella == 'BPV') + (bethany == 'BPV') + (brian == 'BPV') + (brianna == 'BPV') + (ben == 'BPV') + (bill == 'BPV') + (bart == 'BPV')) == 0)\n",
    "\n",
    "constraint7_SF = Constraint(('Bella','Bethany','Brian','Brianna','Ben','Bill','Bart'), \n",
    "                            lambda bella, bethany, brian, brianna, ben, bill, bart:\n",
    "                            ((bella == 'OSS') + (bethany == 'OSS') + (brian == 'OSS') + (brianna == 'OSS') + (ben == 'OSS') + (bill == 'OSS') + (bart == 'OSS')) == 2 or\n",
    "                            ((bella == 'OSS') + (bethany == 'OSS') + (brian == 'OSS') + (brianna == 'OSS') + (ben == 'OSS') + (bill == 'OSS') + (bart == 'OSS')) == 0)\n",
    "\n",
    "constraint8_SF = Constraint(('Bart', 'Bethany'), eq)\n",
    "constraint9_SF = Constraint(('Brian', 'Bill', 'Ben'), all_diff)\n",
    "constraint10_SF = Constraint(('Bill', 'Brianna'), lambda bill, brianna : bill != 'BPV' and brianna != 'BPV')\n",
    "constraint11_SF = Constraint(('Bella', 'Bill'), lambda bella, bill : bill == 'PB' and bella == 'PB')\n",
    "constraint12_SF = Constraint(('Bella','Bethany','Brianna') ,\n",
    "                             lambda bella, bethany, brianna : \n",
    "                             bella == bethany or bella == brianna)\n",
    "constraint13_SF = Constraint(('Bella','Bethany','Brian','Brianna','Ben','Bill','Bart'),\n",
    "                             lambda bella, bethany, brian, brianna, ben, bill, bart : \n",
    "                             ((bella == 'OSS') + (bethany == 'OSS') + (brian == 'OSS') + (brianna == 'OSS') + (ben == 'OSS') + (bill == 'OSS') + (bart == 'OSS')) == 0)\n",
    "constraint14_SF = Constraint(('Brian', 'Brianna'), eq)\n"
   ]
  },
  {
   "cell_type": "markdown",
   "metadata": {},
   "source": [
    "### Combine the constraints and set up the CSPs for the different problems"
   ]
  },
  {
   "cell_type": "markdown",
   "metadata": {},
   "source": [
    "<div class=\"alert alert-info\">\n",
    "    <p>The variables csp_21, csp_22, .. are defined for setting up the CSPs for the corresponding problems. You have to use these variable names otherwise this will result in failing the programming exercise.</p> \n",
    "</div>"
   ]
  },
  {
   "cell_type": "code",
   "execution_count": 8,
   "metadata": {},
   "outputs": [],
   "source": [
    "# Construct the Science Fair Problems\n",
    "\n",
    "# Combine Constraints and set up the csp for Problem 2.1\n",
    "# TODO: csp_21 = \n",
    "\n",
    "constraints_csp_21=[constraint1_SF,constraint2_SF,constraint4_SF,                   \n",
    "                    constraint5_SF,constraint6_SF,constraint7_SF,\n",
    "                    constraint8_SF,constraint9_SF,constraint10_SF,\n",
    "                    constraint11_SF,constraint12_SF] \n",
    "csp_21 = NaryCSP(domains_SF, constraints_csp_21)\n",
    "\n",
    "# Combine Constraints and set up the csp for Problem 2.2 \n",
    "# TODO: csp_22 =\n",
    "\n",
    "constraints_csp_22=[constraint1_SF,constraint3_SF,constraint4_SF,\n",
    "                    constraint5_SF,constraint6_SF,constraint7_SF,\n",
    "                    constraint8_SF,constraint9_SF,constraint10_SF,\n",
    "                    constraint12_SF]\n",
    "csp_22 = NaryCSP(domains_SF, constraints_csp_22)\n",
    "# Combine Constraints and set up the csp for Problem 2.3\n",
    "# TODO: csp_23 = \n",
    "constraints_csp_23=[constraint1_SF,constraint3_SF,constraint4_SF,\n",
    "                    constraint5_SF,constraint6_SF,constraint7_SF,\n",
    "                    constraint10_SF,constraint11_SF,constraint12_SF]\n",
    "csp_23 = NaryCSP(domains_SF, constraints_csp_23)\n",
    "# Combine Constraints and set up the csp for Problem 2.4\n",
    "# TODO: csp_24 =\n",
    "constraints_csp_24=[constraint1_SF,constraint2_SF,constraint4_SF,\n",
    "                    constraint5_SF,constraint6_SF,constraint7_SF,\n",
    "                    constraint10_SF,constraint11_SF,constraint12_SF,\n",
    "                    constraint13_SF]\n",
    "csp_24 = NaryCSP(domains_SF, constraints_csp_24)\n",
    "# Combine Constraints and set up the csp for Problem 2.5\n",
    "# TODO: csp_25 =\n",
    "constraints_csp_25=[constraint1_SF,constraint2_SF,constraint4_SF,\n",
    "                    constraint5_SF,constraint6_SF,constraint7_SF,\n",
    "                    constraint8_SF,constraint9_SF,constraint10_SF,\n",
    "                    constraint11_SF,constraint13_SF]\n",
    "csp_25 = NaryCSP(domains_SF, constraints_csp_25)\n",
    "# Combine Constraints and set up the csp for Problem 2.6\n",
    "# TODO: csp_26 =\n",
    "constraints_csp_26=[constraint1_SF,constraint2_SF,constraint4_SF,\n",
    "                    constraint5_SF,constraint6_SF,constraint7_SF,\n",
    "                    constraint10_SF,constraint11_SF,constraint12_SF,\n",
    "                    constraint13_SF,constraint14_SF]\n",
    "csp_26 = NaryCSP(domains_SF, constraints_csp_26)\n"
   ]
  },
  {
   "cell_type": "markdown",
   "metadata": {},
   "source": [
    "### Solving the CSP"
   ]
  },
  {
   "cell_type": "markdown",
   "metadata": {},
   "source": [
    "<div class=\"alert alert-info\">\n",
    "    <p>Do not change the following cell. If you can't execute the following cell, you may have renamed the variables defined by us.</p> \n",
    "</div>"
   ]
  },
  {
   "cell_type": "code",
   "execution_count": 9,
   "metadata": {},
   "outputs": [
    {
     "data": {
      "text/plain": [
       "{'Bella': 'PB',\n",
       " 'Bethany': 'PB',\n",
       " 'Brian': 'SPC',\n",
       " 'Brianna': 'SPC',\n",
       " 'Ben': 'SPC',\n",
       " 'Bill': 'PB',\n",
       " 'Bart': 'SPC'}"
      ]
     },
     "execution_count": 9,
     "metadata": {},
     "output_type": "execute_result"
    }
   ],
   "source": [
    "ac_search_solver(csp_21)\n",
    "ac_search_solver(csp_22)\n",
    "ac_search_solver(csp_23)\n",
    "ac_search_solver(csp_24)\n",
    "ac_search_solver(csp_25)\n",
    "ac_search_solver(csp_26)"
   ]
  }
 ],
 "metadata": {
  "celltoolbar": "Raw Cell Format",
  "kernelspec": {
   "display_name": "Python 3",
   "language": "python",
   "name": "python3"
  },
  "language_info": {
   "codemirror_mode": {
    "name": "ipython",
    "version": 3
   },
   "file_extension": ".py",
   "mimetype": "text/x-python",
   "name": "python",
   "nbconvert_exporter": "python",
   "pygments_lexer": "ipython3",
   "version": "3.7.4"
  }
 },
 "nbformat": 4,
 "nbformat_minor": 2
}
